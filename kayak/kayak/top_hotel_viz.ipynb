{
 "cells": [
  {
   "cell_type": "code",
   "execution_count": 16,
   "metadata": {},
   "outputs": [],
   "source": [
    "import json\n",
    "import pandas as pd\n",
    "  \n",
    "top_hotels = pd.read_json(\"/Users/oceane/Desktop/plan-your-trip-with-kayak/hotel_url.json\")"
   ]
  },
  {
   "cell_type": "code",
   "execution_count": 17,
   "metadata": {},
   "outputs": [
    {
     "data": {
      "text/html": [
       "<div>\n",
       "<style scoped>\n",
       "    .dataframe tbody tr th:only-of-type {\n",
       "        vertical-align: middle;\n",
       "    }\n",
       "\n",
       "    .dataframe tbody tr th {\n",
       "        vertical-align: top;\n",
       "    }\n",
       "\n",
       "    .dataframe thead th {\n",
       "        text-align: right;\n",
       "    }\n",
       "</style>\n",
       "<table border=\"1\" class=\"dataframe\">\n",
       "  <thead>\n",
       "    <tr style=\"text-align: right;\">\n",
       "      <th></th>\n",
       "      <th>url</th>\n",
       "      <th>hotel_name</th>\n",
       "      <th>rating</th>\n",
       "      <th>text_description</th>\n",
       "      <th>city</th>\n",
       "      <th>coordinates</th>\n",
       "    </tr>\n",
       "  </thead>\n",
       "  <tbody>\n",
       "    <tr>\n",
       "      <th>0</th>\n",
       "      <td>https://www.booking.com/hotel/fr/parc-709-bayo...</td>\n",
       "      <td>Hôtel Villa KOEGUI Bayonne</td>\n",
       "      <td>9.0</td>\n",
       "      <td>Hôtel Villa KOEGUI Bayonne has a restaurant, f...</td>\n",
       "      <td>Bayonne</td>\n",
       "      <td>43.49560600,-1.48131700</td>\n",
       "    </tr>\n",
       "    <tr>\n",
       "      <th>1</th>\n",
       "      <td>https://www.booking.com/hotel/fr/villa-koegui-...</td>\n",
       "      <td>Hôtel Villa KOEGUI Bayonne</td>\n",
       "      <td>9.0</td>\n",
       "      <td>Hôtel Villa KOEGUI Bayonne has a restaurant, f...</td>\n",
       "      <td>Bayonne</td>\n",
       "      <td>43.49237100,-1.47258800</td>\n",
       "    </tr>\n",
       "    <tr>\n",
       "      <th>2</th>\n",
       "      <td>https://www.booking.com/hotel/fr/magnifique-ma...</td>\n",
       "      <td>Le petit atelier</td>\n",
       "      <td>8.9</td>\n",
       "      <td>Situated in Bormes-les-Mimosas in the Provence...</td>\n",
       "      <td>Bormes-les-Mimosas</td>\n",
       "      <td>43.15160800,6.34112340</td>\n",
       "    </tr>\n",
       "    <tr>\n",
       "      <th>3</th>\n",
       "      <td>https://www.booking.com/hotel/fr/appart-39-bel...</td>\n",
       "      <td>Hôtel Villa KOEGUI Bayonne</td>\n",
       "      <td>9.0</td>\n",
       "      <td>Hôtel Villa KOEGUI Bayonne has a restaurant, f...</td>\n",
       "      <td>Bayonne</td>\n",
       "      <td>43.50579423,-1.45608832</td>\n",
       "    </tr>\n",
       "    <tr>\n",
       "      <th>4</th>\n",
       "      <td>https://www.booking.com/hotel/fr/le-petit-atel...</td>\n",
       "      <td>Le petit atelier</td>\n",
       "      <td>8.9</td>\n",
       "      <td>Situated in Bormes-les-Mimosas in the Provence...</td>\n",
       "      <td>Bormes-les-Mimosas</td>\n",
       "      <td>43.14250100,6.34917880</td>\n",
       "    </tr>\n",
       "  </tbody>\n",
       "</table>\n",
       "</div>"
      ],
      "text/plain": [
       "                                                 url  \\\n",
       "0  https://www.booking.com/hotel/fr/parc-709-bayo...   \n",
       "1  https://www.booking.com/hotel/fr/villa-koegui-...   \n",
       "2  https://www.booking.com/hotel/fr/magnifique-ma...   \n",
       "3  https://www.booking.com/hotel/fr/appart-39-bel...   \n",
       "4  https://www.booking.com/hotel/fr/le-petit-atel...   \n",
       "\n",
       "                   hotel_name  rating  \\\n",
       "0  Hôtel Villa KOEGUI Bayonne     9.0   \n",
       "1  Hôtel Villa KOEGUI Bayonne     9.0   \n",
       "2            Le petit atelier     8.9   \n",
       "3  Hôtel Villa KOEGUI Bayonne     9.0   \n",
       "4            Le petit atelier     8.9   \n",
       "\n",
       "                                    text_description                city  \\\n",
       "0  Hôtel Villa KOEGUI Bayonne has a restaurant, f...             Bayonne   \n",
       "1  Hôtel Villa KOEGUI Bayonne has a restaurant, f...             Bayonne   \n",
       "2  Situated in Bormes-les-Mimosas in the Provence...  Bormes-les-Mimosas   \n",
       "3  Hôtel Villa KOEGUI Bayonne has a restaurant, f...             Bayonne   \n",
       "4  Situated in Bormes-les-Mimosas in the Provence...  Bormes-les-Mimosas   \n",
       "\n",
       "               coordinates  \n",
       "0  43.49560600,-1.48131700  \n",
       "1  43.49237100,-1.47258800  \n",
       "2   43.15160800,6.34112340  \n",
       "3  43.50579423,-1.45608832  \n",
       "4   43.14250100,6.34917880  "
      ]
     },
     "execution_count": 17,
     "metadata": {},
     "output_type": "execute_result"
    }
   ],
   "source": [
    "top_hotels.head()"
   ]
  },
  {
   "cell_type": "code",
   "execution_count": 18,
   "metadata": {},
   "outputs": [],
   "source": [
    "top_hotels[['latitude','longitude']] = top_hotels.coordinates.apply(lambda x: pd.Series(str(x).split(\",\")))\n",
    "top_hotels = top_hotels.drop(columns=['coordinates'])"
   ]
  },
  {
   "cell_type": "code",
   "execution_count": 19,
   "metadata": {},
   "outputs": [
    {
     "data": {
      "text/plain": [
       "url                  object\n",
       "hotel_name           object\n",
       "rating              float64\n",
       "text_description     object\n",
       "city                 object\n",
       "latitude            float64\n",
       "longitude           float64\n",
       "dtype: object"
      ]
     },
     "execution_count": 19,
     "metadata": {},
     "output_type": "execute_result"
    }
   ],
   "source": [
    "top_hotels['longitude'] = top_hotels['longitude'].astype(float)\n",
    "top_hotels['latitude'] = top_hotels['latitude'].astype(float)\n",
    "top_hotels.dtypes"
   ]
  },
  {
   "cell_type": "code",
   "execution_count": 20,
   "metadata": {},
   "outputs": [
    {
     "data": {
      "application/vnd.plotly.v1+json": {
       "config": {
        "plotlyServerURL": "https://plot.ly"
       },
       "data": [
        {
         "hovertemplate": "<b>%{hovertext}</b><br><br>city=Bayonne<br>latitude=%{lat}<br>longitude=%{lon}<extra></extra>",
         "hovertext": [
          "Hôtel Villa KOEGUI Bayonne",
          "Hôtel Villa KOEGUI Bayonne",
          "Hôtel Villa KOEGUI Bayonne",
          "Hôtel Villa KOEGUI Bayonne",
          "Hôtel Villa KOEGUI Bayonne",
          "Hôtel Villa KOEGUI Bayonne",
          "Hôtel Villa KOEGUI Bayonne",
          "Hôtel Villa KOEGUI Bayonne",
          "Hôtel Villa KOEGUI Bayonne",
          "Hôtel Villa KOEGUI Bayonne",
          "Hôtel Villa KOEGUI Bayonne",
          "Hôtel Villa KOEGUI Bayonne",
          "Hôtel Villa KOEGUI Bayonne",
          "Hôtel Villa KOEGUI Bayonne",
          "Hôtel Villa KOEGUI Bayonne",
          "Hôtel Villa KOEGUI Bayonne",
          "Hôtel Villa KOEGUI Bayonne",
          "Hôtel Villa KOEGUI Bayonne",
          "Hôtel Villa KOEGUI Bayonne",
          "Hôtel Villa KOEGUI Bayonne"
         ],
         "lat": [
          43.495606,
          43.492371,
          43.50579423,
          43.49535,
          43.489513,
          43.4890802,
          43.4893908,
          43.496335,
          43.4926325,
          43.507021,
          43.482321,
          43.4891491,
          43.5080646,
          43.499867,
          43.483921,
          43.4892176,
          43.4940723,
          43.4894916,
          43.478798,
          43.489674
         ],
         "legendgroup": "Bayonne",
         "lon": [
          -1.481317,
          -1.472588,
          -1.45608832,
          -1.468753,
          -1.479078,
          -1.4730601,
          -1.4790953,
          -1.473749,
          -1.4883185,
          -1.463691,
          -1.468164,
          -1.4893667,
          -1.4827862,
          -1.4656895,
          -1.498212,
          -1.4775287,
          -1.4644138,
          -1.4740525,
          -1.496466,
          -1.4675428
         ],
         "marker": {
          "color": "#636efa"
         },
         "mode": "markers",
         "name": "Bayonne",
         "showlegend": true,
         "subplot": "mapbox",
         "type": "scattermapbox"
        },
        {
         "hovertemplate": "<b>%{hovertext}</b><br><br>city=Bormes-les-Mimosas<br>latitude=%{lat}<br>longitude=%{lon}<extra></extra>",
         "hovertext": [
          "Le petit atelier",
          "Le petit atelier",
          "Le petit atelier",
          "Le petit atelier",
          "Le petit atelier",
          "Le petit atelier",
          "Le petit atelier",
          "Le petit atelier",
          "Le petit atelier",
          "Le petit atelier",
          "Le petit atelier",
          "Le petit atelier",
          "Le petit atelier",
          "Le petit atelier",
          "Le petit atelier",
          "Le petit atelier",
          "Le petit atelier",
          "Le petit atelier",
          "Le petit atelier",
          "Le petit atelier"
         ],
         "lat": [
          43.151608,
          43.142501,
          43.10413931,
          43.1441295,
          43.1403633,
          43.12602594,
          43.10348079,
          43.123095,
          43.12415,
          43.146192,
          43.12415,
          43.12415,
          43.12415,
          43.128874,
          43.123184,
          43.12415,
          43.149979,
          43.149979,
          43.127119,
          43.12264843
         ],
         "legendgroup": "Bormes-les-Mimosas",
         "lon": [
          6.3411234,
          6.3491788,
          6.35253846,
          6.3514904,
          6.3367149,
          6.35675467,
          6.32792383,
          6.354572,
          6.351192,
          6.341635,
          6.351192,
          6.351192,
          6.351192,
          6.352184,
          6.354464,
          6.351192,
          6.348528,
          6.348528,
          6.357719,
          6.35946596
         ],
         "marker": {
          "color": "#EF553B"
         },
         "mode": "markers",
         "name": "Bormes-les-Mimosas",
         "showlegend": true,
         "subplot": "mapbox",
         "type": "scattermapbox"
        },
        {
         "hovertemplate": "<b>%{hovertext}</b><br><br>city=Biarritz<br>latitude=%{lat}<br>longitude=%{lon}<extra></extra>",
         "hovertext": [
          "HYPER CENTRE, VUE MER ,APPARTEMENT NEUF, 6 adultes",
          "HYPER CENTRE, VUE MER ,APPARTEMENT NEUF, 6 adultes",
          "HYPER CENTRE, VUE MER ,APPARTEMENT NEUF, 6 adultes",
          "HYPER CENTRE, VUE MER ,APPARTEMENT NEUF, 6 adultes",
          "HYPER CENTRE, VUE MER ,APPARTEMENT NEUF, 6 adultes",
          "HYPER CENTRE, VUE MER ,APPARTEMENT NEUF, 6 adultes",
          "HYPER CENTRE, VUE MER ,APPARTEMENT NEUF, 6 adultes",
          "HYPER CENTRE, VUE MER ,APPARTEMENT NEUF, 6 adultes",
          "HYPER CENTRE, VUE MER ,APPARTEMENT NEUF, 6 adultes",
          "HYPER CENTRE, VUE MER ,APPARTEMENT NEUF, 6 adultes",
          "HYPER CENTRE, VUE MER ,APPARTEMENT NEUF, 6 adultes",
          "HYPER CENTRE, VUE MER ,APPARTEMENT NEUF, 6 adultes",
          "HYPER CENTRE, VUE MER ,APPARTEMENT NEUF, 6 adultes",
          "HYPER CENTRE, VUE MER ,APPARTEMENT NEUF, 6 adultes",
          "HYPER CENTRE, VUE MER ,APPARTEMENT NEUF, 6 adultes",
          "HYPER CENTRE, VUE MER ,APPARTEMENT NEUF, 6 adultes",
          "HYPER CENTRE, VUE MER ,APPARTEMENT NEUF, 6 adultes",
          "HYPER CENTRE, VUE MER ,APPARTEMENT NEUF, 6 adultes",
          "HYPER CENTRE, VUE MER ,APPARTEMENT NEUF, 6 adultes",
          "HYPER CENTRE, VUE MER ,APPARTEMENT NEUF, 6 adultes"
         ],
         "lat": [
          43.48070865,
          43.4823128,
          43.4744664,
          43.4855662,
          43.4716859,
          43.48380307,
          43.4817742,
          43.480333,
          43.48131684,
          43.4805849,
          43.48046829,
          43.47747717,
          43.48262852,
          43.48257408,
          43.4821737,
          43.48474402,
          43.48271809,
          43.4722079,
          43.48053835,
          43.48240567
         ],
         "legendgroup": "Biarritz",
         "lon": [
          -1.55810058,
          -1.5583363,
          -1.564446,
          -1.5552619,
          -1.5664544,
          -1.54836148,
          -1.56654418,
          -1.5625479,
          -1.56286418,
          -1.5665919,
          -1.5633443,
          -1.56685475,
          -1.56090895,
          -1.56374395,
          -1.5541904,
          -1.55708939,
          -1.56134069,
          -1.53489947,
          -1.55907959,
          -1.56092597
         ],
         "marker": {
          "color": "#00cc96"
         },
         "mode": "markers",
         "name": "Biarritz",
         "showlegend": true,
         "subplot": "mapbox",
         "type": "scattermapbox"
        },
        {
         "hovertemplate": "<b>%{hovertext}</b><br><br>city=Collioure<br>latitude=%{lat}<br>longitude=%{lon}<extra></extra>",
         "hovertext": [
          "Hôtel La Casa Pairal",
          "Hôtel La Casa Pairal",
          "Hôtel La Casa Pairal",
          "Hôtel La Casa Pairal",
          "Hôtel La Casa Pairal",
          "Hôtel La Casa Pairal",
          "Hôtel La Casa Pairal",
          "Hôtel La Casa Pairal",
          "Hôtel La Casa Pairal",
          "Hôtel La Casa Pairal",
          "Hôtel La Casa Pairal",
          "Hôtel La Casa Pairal",
          "Hôtel La Casa Pairal",
          "Hôtel La Casa Pairal",
          "Hôtel La Casa Pairal",
          "Hôtel La Casa Pairal",
          "Hôtel La Casa Pairal",
          "Hôtel La Casa Pairal",
          "Hôtel La Casa Pairal",
          "Hôtel La Casa Pairal"
         ],
         "lat": [
          42.5219562,
          42.52434874,
          42.5238869,
          42.52507267,
          42.52716324,
          42.5273935,
          42.52262896,
          42.522124,
          42.523431,
          42.523415,
          42.522027,
          42.5238821,
          42.5224086,
          42.524373,
          42.5271222,
          42.523145,
          42.52730095,
          42.527757,
          42.52311754,
          42.52616733
         ],
         "legendgroup": "Collioure",
         "lon": [
          3.08830475,
          3.09014887,
          3.0843702,
          3.09015687,
          3.0850151,
          3.0847579,
          3.0915798,
          3.087059,
          3.097688,
          3.087757,
          3.087054,
          3.0844023,
          3.0869409,
          3.090094,
          3.0765161,
          3.0867856,
          3.08423268,
          3.083759,
          3.0854253,
          3.08235571
         ],
         "marker": {
          "color": "#ab63fa"
         },
         "mode": "markers",
         "name": "Collioure",
         "showlegend": true,
         "subplot": "mapbox",
         "type": "scattermapbox"
        },
        {
         "hovertemplate": "<b>%{hovertext}</b><br><br>city=Cassis<br>latitude=%{lat}<br>longitude=%{lon}<extra></extra>",
         "hovertext": [
          "LE REVE BLEU",
          "LE REVE BLEU",
          "LE REVE BLEU",
          "LE REVE BLEU",
          "LE REVE BLEU",
          "LE REVE BLEU",
          "LE REVE BLEU",
          "LE REVE BLEU",
          "LE REVE BLEU",
          "LE REVE BLEU",
          "LE REVE BLEU",
          "LE REVE BLEU",
          "LE REVE BLEU",
          "LE REVE BLEU",
          "LE REVE BLEU",
          "LE REVE BLEU",
          "LE REVE BLEU",
          "LE REVE BLEU",
          "LE REVE BLEU",
          "LE REVE BLEU"
         ],
         "lat": [
          43.2143771,
          43.21462302,
          43.21505477,
          43.21499337,
          43.21462214,
          43.21495674,
          43.21312971,
          43.21875954,
          43.21788357,
          43.21660581,
          43.21459857,
          43.21509805,
          43.22207969,
          43.216905,
          43.214926,
          43.21534046,
          43.21533507,
          43.21641033,
          43.21407197,
          43.2206243
         ],
         "legendgroup": "Cassis",
         "lon": [
          5.5377803,
          5.54361251,
          5.54057326,
          5.53584943,
          5.53477276,
          5.5357946,
          5.54228424,
          5.54379929,
          5.54760143,
          5.55169795,
          5.53784404,
          5.54048743,
          5.53792695,
          5.541446,
          5.532989,
          5.5368582,
          5.53686093,
          5.55070017,
          5.53062182,
          5.540767
         ],
         "marker": {
          "color": "#FFA15A"
         },
         "mode": "markers",
         "name": "Cassis",
         "showlegend": true,
         "subplot": "mapbox",
         "type": "scattermapbox"
        }
       ],
       "layout": {
        "legend": {
         "title": {
          "text": "city"
         },
         "tracegroupgap": 0
        },
        "mapbox": {
         "center": {
          "lat": 43.168813420899994,
          "lon": 2.3881160411
         },
         "domain": {
          "x": [
           0,
           1
          ],
          "y": [
           0,
           1
          ]
         },
         "style": "carto-positron",
         "zoom": 6
        },
        "margin": {
         "t": 60
        },
        "template": {
         "data": {
          "bar": [
           {
            "error_x": {
             "color": "#2a3f5f"
            },
            "error_y": {
             "color": "#2a3f5f"
            },
            "marker": {
             "line": {
              "color": "#E5ECF6",
              "width": 0.5
             },
             "pattern": {
              "fillmode": "overlay",
              "size": 10,
              "solidity": 0.2
             }
            },
            "type": "bar"
           }
          ],
          "barpolar": [
           {
            "marker": {
             "line": {
              "color": "#E5ECF6",
              "width": 0.5
             },
             "pattern": {
              "fillmode": "overlay",
              "size": 10,
              "solidity": 0.2
             }
            },
            "type": "barpolar"
           }
          ],
          "carpet": [
           {
            "aaxis": {
             "endlinecolor": "#2a3f5f",
             "gridcolor": "white",
             "linecolor": "white",
             "minorgridcolor": "white",
             "startlinecolor": "#2a3f5f"
            },
            "baxis": {
             "endlinecolor": "#2a3f5f",
             "gridcolor": "white",
             "linecolor": "white",
             "minorgridcolor": "white",
             "startlinecolor": "#2a3f5f"
            },
            "type": "carpet"
           }
          ],
          "choropleth": [
           {
            "colorbar": {
             "outlinewidth": 0,
             "ticks": ""
            },
            "type": "choropleth"
           }
          ],
          "contour": [
           {
            "colorbar": {
             "outlinewidth": 0,
             "ticks": ""
            },
            "colorscale": [
             [
              0,
              "#0d0887"
             ],
             [
              0.1111111111111111,
              "#46039f"
             ],
             [
              0.2222222222222222,
              "#7201a8"
             ],
             [
              0.3333333333333333,
              "#9c179e"
             ],
             [
              0.4444444444444444,
              "#bd3786"
             ],
             [
              0.5555555555555556,
              "#d8576b"
             ],
             [
              0.6666666666666666,
              "#ed7953"
             ],
             [
              0.7777777777777778,
              "#fb9f3a"
             ],
             [
              0.8888888888888888,
              "#fdca26"
             ],
             [
              1,
              "#f0f921"
             ]
            ],
            "type": "contour"
           }
          ],
          "contourcarpet": [
           {
            "colorbar": {
             "outlinewidth": 0,
             "ticks": ""
            },
            "type": "contourcarpet"
           }
          ],
          "heatmap": [
           {
            "colorbar": {
             "outlinewidth": 0,
             "ticks": ""
            },
            "colorscale": [
             [
              0,
              "#0d0887"
             ],
             [
              0.1111111111111111,
              "#46039f"
             ],
             [
              0.2222222222222222,
              "#7201a8"
             ],
             [
              0.3333333333333333,
              "#9c179e"
             ],
             [
              0.4444444444444444,
              "#bd3786"
             ],
             [
              0.5555555555555556,
              "#d8576b"
             ],
             [
              0.6666666666666666,
              "#ed7953"
             ],
             [
              0.7777777777777778,
              "#fb9f3a"
             ],
             [
              0.8888888888888888,
              "#fdca26"
             ],
             [
              1,
              "#f0f921"
             ]
            ],
            "type": "heatmap"
           }
          ],
          "heatmapgl": [
           {
            "colorbar": {
             "outlinewidth": 0,
             "ticks": ""
            },
            "colorscale": [
             [
              0,
              "#0d0887"
             ],
             [
              0.1111111111111111,
              "#46039f"
             ],
             [
              0.2222222222222222,
              "#7201a8"
             ],
             [
              0.3333333333333333,
              "#9c179e"
             ],
             [
              0.4444444444444444,
              "#bd3786"
             ],
             [
              0.5555555555555556,
              "#d8576b"
             ],
             [
              0.6666666666666666,
              "#ed7953"
             ],
             [
              0.7777777777777778,
              "#fb9f3a"
             ],
             [
              0.8888888888888888,
              "#fdca26"
             ],
             [
              1,
              "#f0f921"
             ]
            ],
            "type": "heatmapgl"
           }
          ],
          "histogram": [
           {
            "marker": {
             "pattern": {
              "fillmode": "overlay",
              "size": 10,
              "solidity": 0.2
             }
            },
            "type": "histogram"
           }
          ],
          "histogram2d": [
           {
            "colorbar": {
             "outlinewidth": 0,
             "ticks": ""
            },
            "colorscale": [
             [
              0,
              "#0d0887"
             ],
             [
              0.1111111111111111,
              "#46039f"
             ],
             [
              0.2222222222222222,
              "#7201a8"
             ],
             [
              0.3333333333333333,
              "#9c179e"
             ],
             [
              0.4444444444444444,
              "#bd3786"
             ],
             [
              0.5555555555555556,
              "#d8576b"
             ],
             [
              0.6666666666666666,
              "#ed7953"
             ],
             [
              0.7777777777777778,
              "#fb9f3a"
             ],
             [
              0.8888888888888888,
              "#fdca26"
             ],
             [
              1,
              "#f0f921"
             ]
            ],
            "type": "histogram2d"
           }
          ],
          "histogram2dcontour": [
           {
            "colorbar": {
             "outlinewidth": 0,
             "ticks": ""
            },
            "colorscale": [
             [
              0,
              "#0d0887"
             ],
             [
              0.1111111111111111,
              "#46039f"
             ],
             [
              0.2222222222222222,
              "#7201a8"
             ],
             [
              0.3333333333333333,
              "#9c179e"
             ],
             [
              0.4444444444444444,
              "#bd3786"
             ],
             [
              0.5555555555555556,
              "#d8576b"
             ],
             [
              0.6666666666666666,
              "#ed7953"
             ],
             [
              0.7777777777777778,
              "#fb9f3a"
             ],
             [
              0.8888888888888888,
              "#fdca26"
             ],
             [
              1,
              "#f0f921"
             ]
            ],
            "type": "histogram2dcontour"
           }
          ],
          "mesh3d": [
           {
            "colorbar": {
             "outlinewidth": 0,
             "ticks": ""
            },
            "type": "mesh3d"
           }
          ],
          "parcoords": [
           {
            "line": {
             "colorbar": {
              "outlinewidth": 0,
              "ticks": ""
             }
            },
            "type": "parcoords"
           }
          ],
          "pie": [
           {
            "automargin": true,
            "type": "pie"
           }
          ],
          "scatter": [
           {
            "fillpattern": {
             "fillmode": "overlay",
             "size": 10,
             "solidity": 0.2
            },
            "type": "scatter"
           }
          ],
          "scatter3d": [
           {
            "line": {
             "colorbar": {
              "outlinewidth": 0,
              "ticks": ""
             }
            },
            "marker": {
             "colorbar": {
              "outlinewidth": 0,
              "ticks": ""
             }
            },
            "type": "scatter3d"
           }
          ],
          "scattercarpet": [
           {
            "marker": {
             "colorbar": {
              "outlinewidth": 0,
              "ticks": ""
             }
            },
            "type": "scattercarpet"
           }
          ],
          "scattergeo": [
           {
            "marker": {
             "colorbar": {
              "outlinewidth": 0,
              "ticks": ""
             }
            },
            "type": "scattergeo"
           }
          ],
          "scattergl": [
           {
            "marker": {
             "colorbar": {
              "outlinewidth": 0,
              "ticks": ""
             }
            },
            "type": "scattergl"
           }
          ],
          "scattermapbox": [
           {
            "marker": {
             "colorbar": {
              "outlinewidth": 0,
              "ticks": ""
             }
            },
            "type": "scattermapbox"
           }
          ],
          "scatterpolar": [
           {
            "marker": {
             "colorbar": {
              "outlinewidth": 0,
              "ticks": ""
             }
            },
            "type": "scatterpolar"
           }
          ],
          "scatterpolargl": [
           {
            "marker": {
             "colorbar": {
              "outlinewidth": 0,
              "ticks": ""
             }
            },
            "type": "scatterpolargl"
           }
          ],
          "scatterternary": [
           {
            "marker": {
             "colorbar": {
              "outlinewidth": 0,
              "ticks": ""
             }
            },
            "type": "scatterternary"
           }
          ],
          "surface": [
           {
            "colorbar": {
             "outlinewidth": 0,
             "ticks": ""
            },
            "colorscale": [
             [
              0,
              "#0d0887"
             ],
             [
              0.1111111111111111,
              "#46039f"
             ],
             [
              0.2222222222222222,
              "#7201a8"
             ],
             [
              0.3333333333333333,
              "#9c179e"
             ],
             [
              0.4444444444444444,
              "#bd3786"
             ],
             [
              0.5555555555555556,
              "#d8576b"
             ],
             [
              0.6666666666666666,
              "#ed7953"
             ],
             [
              0.7777777777777778,
              "#fb9f3a"
             ],
             [
              0.8888888888888888,
              "#fdca26"
             ],
             [
              1,
              "#f0f921"
             ]
            ],
            "type": "surface"
           }
          ],
          "table": [
           {
            "cells": {
             "fill": {
              "color": "#EBF0F8"
             },
             "line": {
              "color": "white"
             }
            },
            "header": {
             "fill": {
              "color": "#C8D4E3"
             },
             "line": {
              "color": "white"
             }
            },
            "type": "table"
           }
          ]
         },
         "layout": {
          "annotationdefaults": {
           "arrowcolor": "#2a3f5f",
           "arrowhead": 0,
           "arrowwidth": 1
          },
          "autotypenumbers": "strict",
          "coloraxis": {
           "colorbar": {
            "outlinewidth": 0,
            "ticks": ""
           }
          },
          "colorscale": {
           "diverging": [
            [
             0,
             "#8e0152"
            ],
            [
             0.1,
             "#c51b7d"
            ],
            [
             0.2,
             "#de77ae"
            ],
            [
             0.3,
             "#f1b6da"
            ],
            [
             0.4,
             "#fde0ef"
            ],
            [
             0.5,
             "#f7f7f7"
            ],
            [
             0.6,
             "#e6f5d0"
            ],
            [
             0.7,
             "#b8e186"
            ],
            [
             0.8,
             "#7fbc41"
            ],
            [
             0.9,
             "#4d9221"
            ],
            [
             1,
             "#276419"
            ]
           ],
           "sequential": [
            [
             0,
             "#0d0887"
            ],
            [
             0.1111111111111111,
             "#46039f"
            ],
            [
             0.2222222222222222,
             "#7201a8"
            ],
            [
             0.3333333333333333,
             "#9c179e"
            ],
            [
             0.4444444444444444,
             "#bd3786"
            ],
            [
             0.5555555555555556,
             "#d8576b"
            ],
            [
             0.6666666666666666,
             "#ed7953"
            ],
            [
             0.7777777777777778,
             "#fb9f3a"
            ],
            [
             0.8888888888888888,
             "#fdca26"
            ],
            [
             1,
             "#f0f921"
            ]
           ],
           "sequentialminus": [
            [
             0,
             "#0d0887"
            ],
            [
             0.1111111111111111,
             "#46039f"
            ],
            [
             0.2222222222222222,
             "#7201a8"
            ],
            [
             0.3333333333333333,
             "#9c179e"
            ],
            [
             0.4444444444444444,
             "#bd3786"
            ],
            [
             0.5555555555555556,
             "#d8576b"
            ],
            [
             0.6666666666666666,
             "#ed7953"
            ],
            [
             0.7777777777777778,
             "#fb9f3a"
            ],
            [
             0.8888888888888888,
             "#fdca26"
            ],
            [
             1,
             "#f0f921"
            ]
           ]
          },
          "colorway": [
           "#636efa",
           "#EF553B",
           "#00cc96",
           "#ab63fa",
           "#FFA15A",
           "#19d3f3",
           "#FF6692",
           "#B6E880",
           "#FF97FF",
           "#FECB52"
          ],
          "font": {
           "color": "#2a3f5f"
          },
          "geo": {
           "bgcolor": "white",
           "lakecolor": "white",
           "landcolor": "#E5ECF6",
           "showlakes": true,
           "showland": true,
           "subunitcolor": "white"
          },
          "hoverlabel": {
           "align": "left"
          },
          "hovermode": "closest",
          "mapbox": {
           "style": "light"
          },
          "paper_bgcolor": "white",
          "plot_bgcolor": "#E5ECF6",
          "polar": {
           "angularaxis": {
            "gridcolor": "white",
            "linecolor": "white",
            "ticks": ""
           },
           "bgcolor": "#E5ECF6",
           "radialaxis": {
            "gridcolor": "white",
            "linecolor": "white",
            "ticks": ""
           }
          },
          "scene": {
           "xaxis": {
            "backgroundcolor": "#E5ECF6",
            "gridcolor": "white",
            "gridwidth": 2,
            "linecolor": "white",
            "showbackground": true,
            "ticks": "",
            "zerolinecolor": "white"
           },
           "yaxis": {
            "backgroundcolor": "#E5ECF6",
            "gridcolor": "white",
            "gridwidth": 2,
            "linecolor": "white",
            "showbackground": true,
            "ticks": "",
            "zerolinecolor": "white"
           },
           "zaxis": {
            "backgroundcolor": "#E5ECF6",
            "gridcolor": "white",
            "gridwidth": 2,
            "linecolor": "white",
            "showbackground": true,
            "ticks": "",
            "zerolinecolor": "white"
           }
          },
          "shapedefaults": {
           "line": {
            "color": "#2a3f5f"
           }
          },
          "ternary": {
           "aaxis": {
            "gridcolor": "white",
            "linecolor": "white",
            "ticks": ""
           },
           "baxis": {
            "gridcolor": "white",
            "linecolor": "white",
            "ticks": ""
           },
           "bgcolor": "#E5ECF6",
           "caxis": {
            "gridcolor": "white",
            "linecolor": "white",
            "ticks": ""
           }
          },
          "title": {
           "x": 0.05
          },
          "xaxis": {
           "automargin": true,
           "gridcolor": "white",
           "linecolor": "white",
           "ticks": "",
           "title": {
            "standoff": 15
           },
           "zerolinecolor": "white",
           "zerolinewidth": 2
          },
          "yaxis": {
           "automargin": true,
           "gridcolor": "white",
           "linecolor": "white",
           "ticks": "",
           "title": {
            "standoff": 15
           },
           "zerolinecolor": "white",
           "zerolinewidth": 2
          }
         }
        }
       }
      }
     },
     "metadata": {},
     "output_type": "display_data"
    }
   ],
   "source": [
    "import plotly.graph_objects as go\n",
    "import plotly.express as px\n",
    "\n",
    "fig = px.scatter_mapbox(top_hotels, lat=\"latitude\", lon=\"longitude\", color=\"city\", hover_name=\"hotel_name\", zoom=6, mapbox_style=\"carto-positron\")\n",
    "fig.show()"
   ]
  },
  {
   "cell_type": "code",
   "execution_count": 23,
   "metadata": {},
   "outputs": [],
   "source": [
    "top_hotels.to_csv('top_five_hotels.csv') "
   ]
  }
 ],
 "metadata": {
  "kernelspec": {
   "display_name": "Python 3.10.8 64-bit",
   "language": "python",
   "name": "python3"
  },
  "language_info": {
   "codemirror_mode": {
    "name": "ipython",
    "version": 3
   },
   "file_extension": ".py",
   "mimetype": "text/x-python",
   "name": "python",
   "nbconvert_exporter": "python",
   "pygments_lexer": "ipython3",
   "version": "3.10.8"
  },
  "orig_nbformat": 4,
  "vscode": {
   "interpreter": {
    "hash": "b0fa6594d8f4cbf19f97940f81e996739fb7646882a419484c72d19e05852a7e"
   }
  }
 },
 "nbformat": 4,
 "nbformat_minor": 2
}

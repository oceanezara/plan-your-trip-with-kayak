{
 "cells": [
  {
   "cell_type": "code",
   "execution_count": 1,
   "metadata": {},
   "outputs": [],
   "source": [
    "import json\n",
    "import pandas as pd\n",
    "  \n",
    "top_hotels = pd.read_json(\"hotel_url.json\")"
   ]
  },
  {
   "cell_type": "code",
   "execution_count": 46,
   "metadata": {},
   "outputs": [
    {
     "data": {
      "text/html": [
       "<div>\n",
       "<style scoped>\n",
       "    .dataframe tbody tr th:only-of-type {\n",
       "        vertical-align: middle;\n",
       "    }\n",
       "\n",
       "    .dataframe tbody tr th {\n",
       "        vertical-align: top;\n",
       "    }\n",
       "\n",
       "    .dataframe thead th {\n",
       "        text-align: right;\n",
       "    }\n",
       "</style>\n",
       "<table border=\"1\" class=\"dataframe\">\n",
       "  <thead>\n",
       "    <tr style=\"text-align: right;\">\n",
       "      <th></th>\n",
       "      <th>url</th>\n",
       "      <th>city</th>\n",
       "      <th>coordinates</th>\n",
       "      <th>hotel_name</th>\n",
       "      <th>rating</th>\n",
       "      <th>hotel_description</th>\n",
       "    </tr>\n",
       "  </thead>\n",
       "  <tbody>\n",
       "    <tr>\n",
       "      <th>0</th>\n",
       "      <td>https://www.booking.com/hotel/fr/le-clos-de-la...</td>\n",
       "      <td>Cassis</td>\n",
       "      <td>[43.21660581,5.55169795]</td>\n",
       "      <td>[Le clos de la tour Cassis]</td>\n",
       "      <td>[9.0]</td>\n",
       "      <td>[Boasting a seasonal outdoor swimming pool and...</td>\n",
       "    </tr>\n",
       "    <tr>\n",
       "      <th>1</th>\n",
       "      <td>https://www.booking.com/hotel/fr/le-reve-bleu-...</td>\n",
       "      <td>Cassis</td>\n",
       "      <td>[43.22062430,5.54076700]</td>\n",
       "      <td>[LE REVE BLEU]</td>\n",
       "      <td>[8.6]</td>\n",
       "      <td>[Situated in Cassis, 1.1 km from Grande Mer an...</td>\n",
       "    </tr>\n",
       "    <tr>\n",
       "      <th>2</th>\n",
       "      <td>https://www.booking.com/hotel/fr/calanque-d-en...</td>\n",
       "      <td>Cassis</td>\n",
       "      <td>[43.21459857,5.53784404]</td>\n",
       "      <td>[CALANQUE D'EN VAU]</td>\n",
       "      <td>[8.8]</td>\n",
       "      <td>[You're eligible for a Genius discount at CALA...</td>\n",
       "    </tr>\n",
       "    <tr>\n",
       "      <th>3</th>\n",
       "      <td>https://www.booking.com/hotel/fr/clocher-de-ca...</td>\n",
       "      <td>Cassis</td>\n",
       "      <td>[43.21560200,5.53771110]</td>\n",
       "      <td>[Le Clocher de Cassis]</td>\n",
       "      <td>[8.3]</td>\n",
       "      <td>[You're eligible for a Genius discount at Le C...</td>\n",
       "    </tr>\n",
       "    <tr>\n",
       "      <th>4</th>\n",
       "      <td>https://www.booking.com/hotel/fr/la-vigie-cass...</td>\n",
       "      <td>Cassis</td>\n",
       "      <td>[43.21312971,5.54228424]</td>\n",
       "      <td>[La vigie II]</td>\n",
       "      <td>[7.8]</td>\n",
       "      <td>[You're eligible for a Genius discount at La v...</td>\n",
       "    </tr>\n",
       "  </tbody>\n",
       "</table>\n",
       "</div>"
      ],
      "text/plain": [
       "                                                 url    city  \\\n",
       "0  https://www.booking.com/hotel/fr/le-clos-de-la...  Cassis   \n",
       "1  https://www.booking.com/hotel/fr/le-reve-bleu-...  Cassis   \n",
       "2  https://www.booking.com/hotel/fr/calanque-d-en...  Cassis   \n",
       "3  https://www.booking.com/hotel/fr/clocher-de-ca...  Cassis   \n",
       "4  https://www.booking.com/hotel/fr/la-vigie-cass...  Cassis   \n",
       "\n",
       "                coordinates                   hotel_name rating  \\\n",
       "0  [43.21660581,5.55169795]  [Le clos de la tour Cassis]  [9.0]   \n",
       "1  [43.22062430,5.54076700]               [LE REVE BLEU]  [8.6]   \n",
       "2  [43.21459857,5.53784404]          [CALANQUE D'EN VAU]  [8.8]   \n",
       "3  [43.21560200,5.53771110]       [Le Clocher de Cassis]  [8.3]   \n",
       "4  [43.21312971,5.54228424]                [La vigie II]  [7.8]   \n",
       "\n",
       "                                   hotel_description  \n",
       "0  [Boasting a seasonal outdoor swimming pool and...  \n",
       "1  [Situated in Cassis, 1.1 km from Grande Mer an...  \n",
       "2  [You're eligible for a Genius discount at CALA...  \n",
       "3  [You're eligible for a Genius discount at Le C...  \n",
       "4  [You're eligible for a Genius discount at La v...  "
      ]
     },
     "execution_count": 46,
     "metadata": {},
     "output_type": "execute_result"
    }
   ],
   "source": [
    "top_hotels.head()"
   ]
  },
  {
   "cell_type": "code",
   "execution_count": 47,
   "metadata": {},
   "outputs": [],
   "source": [
    "top_hotels['coordinates'] = top_hotels['coordinates'].str.get(0)\n",
    "top_hotels[['latitude','longitude']] = top_hotels.coordinates.apply(lambda x: pd.Series(str(x).split(\",\")))\n",
    "top_hotels = top_hotels.drop(columns=['coordinates'])\n"
   ]
  },
  {
   "cell_type": "code",
   "execution_count": 48,
   "metadata": {},
   "outputs": [
    {
     "data": {
      "text/plain": [
       "url                   object\n",
       "city                  object\n",
       "hotel_name            object\n",
       "rating                object\n",
       "hotel_description     object\n",
       "latitude             float64\n",
       "longitude            float64\n",
       "dtype: object"
      ]
     },
     "execution_count": 48,
     "metadata": {},
     "output_type": "execute_result"
    }
   ],
   "source": [
    "top_hotels['longitude'] = top_hotels['longitude'].astype(float)\n",
    "top_hotels['latitude'] = top_hotels['latitude'].astype(float)\n",
    "top_hotels.dtypes"
   ]
  },
  {
   "cell_type": "code",
   "execution_count": 49,
   "metadata": {},
   "outputs": [
    {
     "data": {
      "text/html": [
       "<div>\n",
       "<style scoped>\n",
       "    .dataframe tbody tr th:only-of-type {\n",
       "        vertical-align: middle;\n",
       "    }\n",
       "\n",
       "    .dataframe tbody tr th {\n",
       "        vertical-align: top;\n",
       "    }\n",
       "\n",
       "    .dataframe thead th {\n",
       "        text-align: right;\n",
       "    }\n",
       "</style>\n",
       "<table border=\"1\" class=\"dataframe\">\n",
       "  <thead>\n",
       "    <tr style=\"text-align: right;\">\n",
       "      <th></th>\n",
       "      <th>url</th>\n",
       "      <th>city</th>\n",
       "      <th>hotel_name</th>\n",
       "      <th>rating</th>\n",
       "      <th>hotel_description</th>\n",
       "      <th>latitude</th>\n",
       "      <th>longitude</th>\n",
       "    </tr>\n",
       "  </thead>\n",
       "  <tbody>\n",
       "    <tr>\n",
       "      <th>0</th>\n",
       "      <td>https://www.booking.com/hotel/fr/le-clos-de-la...</td>\n",
       "      <td>Cassis</td>\n",
       "      <td>[Le clos de la tour Cassis]</td>\n",
       "      <td>[9.0]</td>\n",
       "      <td>[Boasting a seasonal outdoor swimming pool and...</td>\n",
       "      <td>43.216606</td>\n",
       "      <td>5.551698</td>\n",
       "    </tr>\n",
       "    <tr>\n",
       "      <th>1</th>\n",
       "      <td>https://www.booking.com/hotel/fr/le-reve-bleu-...</td>\n",
       "      <td>Cassis</td>\n",
       "      <td>[LE REVE BLEU]</td>\n",
       "      <td>[8.6]</td>\n",
       "      <td>[Situated in Cassis, 1.1 km from Grande Mer an...</td>\n",
       "      <td>43.220624</td>\n",
       "      <td>5.540767</td>\n",
       "    </tr>\n",
       "    <tr>\n",
       "      <th>2</th>\n",
       "      <td>https://www.booking.com/hotel/fr/calanque-d-en...</td>\n",
       "      <td>Cassis</td>\n",
       "      <td>[CALANQUE D'EN VAU]</td>\n",
       "      <td>[8.8]</td>\n",
       "      <td>[You're eligible for a Genius discount at CALA...</td>\n",
       "      <td>43.214599</td>\n",
       "      <td>5.537844</td>\n",
       "    </tr>\n",
       "    <tr>\n",
       "      <th>3</th>\n",
       "      <td>https://www.booking.com/hotel/fr/clocher-de-ca...</td>\n",
       "      <td>Cassis</td>\n",
       "      <td>[Le Clocher de Cassis]</td>\n",
       "      <td>[8.3]</td>\n",
       "      <td>[You're eligible for a Genius discount at Le C...</td>\n",
       "      <td>43.215602</td>\n",
       "      <td>5.537711</td>\n",
       "    </tr>\n",
       "    <tr>\n",
       "      <th>4</th>\n",
       "      <td>https://www.booking.com/hotel/fr/la-vigie-cass...</td>\n",
       "      <td>Cassis</td>\n",
       "      <td>[La vigie II]</td>\n",
       "      <td>[7.8]</td>\n",
       "      <td>[You're eligible for a Genius discount at La v...</td>\n",
       "      <td>43.213130</td>\n",
       "      <td>5.542284</td>\n",
       "    </tr>\n",
       "  </tbody>\n",
       "</table>\n",
       "</div>"
      ],
      "text/plain": [
       "                                                 url    city  \\\n",
       "0  https://www.booking.com/hotel/fr/le-clos-de-la...  Cassis   \n",
       "1  https://www.booking.com/hotel/fr/le-reve-bleu-...  Cassis   \n",
       "2  https://www.booking.com/hotel/fr/calanque-d-en...  Cassis   \n",
       "3  https://www.booking.com/hotel/fr/clocher-de-ca...  Cassis   \n",
       "4  https://www.booking.com/hotel/fr/la-vigie-cass...  Cassis   \n",
       "\n",
       "                    hotel_name rating  \\\n",
       "0  [Le clos de la tour Cassis]  [9.0]   \n",
       "1               [LE REVE BLEU]  [8.6]   \n",
       "2          [CALANQUE D'EN VAU]  [8.8]   \n",
       "3       [Le Clocher de Cassis]  [8.3]   \n",
       "4                [La vigie II]  [7.8]   \n",
       "\n",
       "                                   hotel_description   latitude  longitude  \n",
       "0  [Boasting a seasonal outdoor swimming pool and...  43.216606   5.551698  \n",
       "1  [Situated in Cassis, 1.1 km from Grande Mer an...  43.220624   5.540767  \n",
       "2  [You're eligible for a Genius discount at CALA...  43.214599   5.537844  \n",
       "3  [You're eligible for a Genius discount at Le C...  43.215602   5.537711  \n",
       "4  [You're eligible for a Genius discount at La v...  43.213130   5.542284  "
      ]
     },
     "execution_count": 49,
     "metadata": {},
     "output_type": "execute_result"
    }
   ],
   "source": [
    "top_hotels.head()"
   ]
  },
  {
   "cell_type": "code",
   "execution_count": 50,
   "metadata": {},
   "outputs": [
    {
     "data": {
      "application/vnd.plotly.v1+json": {
       "config": {
        "plotlyServerURL": "https://plot.ly"
       },
       "data": [
        {
         "hovertemplate": "<b>%{hovertext}</b><br><br>city=Cassis<br>latitude=%{lat}<br>longitude=%{lon}<extra></extra>",
         "hovertext": [
          [
           "Le clos de la tour Cassis"
          ],
          [
           "LE REVE BLEU"
          ],
          [
           "CALANQUE D'EN VAU"
          ],
          [
           "Le Clocher de Cassis"
          ],
          [
           "La vigie II"
          ],
          [
           "Appartement Cassis vue mer d'exception"
          ],
          [
           "Villa l'Icône"
          ],
          [
           "Plage & Calanques Cassis"
          ],
          [
           "La douceur de Cassis"
          ],
          [
           "Cassis, le Grand Bleu, triplex vue mer, port plage 10mn à pieds"
          ],
          [
           "LOU CIGALOU"
          ],
          [
           "Le Cleli"
          ],
          [
           "Home Cassis - Maison Julou - Piscine chauffée"
          ],
          [
           "Le Duplex"
          ],
          [
           "Cassis Ma Vie Là"
          ],
          [
           "Villa ANTINEA"
          ],
          [
           "appartement cosy à 10 mètres du port de Cassis"
          ],
          [
           "Le chemin de belle fille"
          ],
          [
           "appartement du pêcheur à Cassis à 10 mètres du port"
          ],
          [
           "UNE TERRASSE SUR LA MER 3 pers 2 chambres VUE MER"
          ]
         ],
         "lat": [
          43.21660581,
          43.2206243,
          43.21459857,
          43.215602,
          43.21312971,
          43.21875954,
          43.21788357,
          43.2120018,
          43.215009,
          43.2208045,
          43.214926,
          43.21509805,
          43.22207969,
          43.21505477,
          43.216905,
          43.2202401,
          43.21533507,
          43.21641033,
          43.21534046,
          43.21407197
         ],
         "legendgroup": "Cassis",
         "lon": [
          5.55169795,
          5.540767,
          5.53784404,
          5.5377111,
          5.54228424,
          5.54379929,
          5.54760143,
          5.5276305,
          5.530956,
          5.54229625,
          5.532989,
          5.54048743,
          5.53792695,
          5.54057326,
          5.541446,
          5.5424693,
          5.53686093,
          5.55070017,
          5.5368582,
          5.53062182
         ],
         "marker": {
          "color": "#636efa"
         },
         "mode": "markers",
         "name": "Cassis",
         "showlegend": true,
         "subplot": "mapbox",
         "type": "scattermapbox"
        },
        {
         "hovertemplate": "<b>%{hovertext}</b><br><br>city=Collioure<br>latitude=%{lat}<br>longitude=%{lon}<extra></extra>",
         "hovertext": [
          [
           "Residence Les Balcons de Collioure - maeva Home"
          ],
          [
           "Les Pieds dans l'Eau"
          ],
          [
           "RUE DU SOLEIL 6SOL16"
          ],
          [
           "Appartement Le val Saint-Elme - 4VE284"
          ],
          [
           "Résidence Val Saint-Elme 4VSE197"
          ],
          [
           "Appartement 2 Chambres - Les Dominicains - 4DOM11"
          ],
          [
           "Appartement Saphir - 4SAP7"
          ],
          [
           "Appartement Hauts de Collioure - 4HC65"
          ],
          [
           "COLLIOURE tres bel appart a 150 metres des plages avec jardin prive et parking dans residence securisee"
          ],
          [
           "Appartement résidence Soleil Marin 4SOM23"
          ],
          [
           "Appartement Les Roches Bleues - 5RB14"
          ],
          [
           "Appartement Sous le Soleil"
          ],
          [
           "Bel appartement pour 4 personnes - 4SAP22"
          ],
          [
           "Rue Coma Cheric 6COMA1"
          ],
          [
           "Appartement de charme à 50m de la plage de sable"
          ],
          [
           "Le Madeloc Hôtel & Spa"
          ],
          [
           "Appartement Intra-murros - 4EGA41"
          ],
          [
           "Résidence Saint Vincent"
          ],
          [
           "Hôtel La Casa Pairal"
          ],
          [
           "Résidence du Soleil"
          ]
         ],
         "lat": [
          42.52507267,
          42.52716324,
          42.5231685,
          42.522027,
          42.522124,
          42.523415,
          42.524373,
          42.523474,
          42.5224086,
          42.52237104,
          42.523431,
          42.5271222,
          42.52434874,
          42.523145,
          42.5238821,
          42.52876467,
          42.527757,
          42.52730095,
          42.52616733,
          42.52311754
         ],
         "legendgroup": "Collioure",
         "lon": [
          3.09015687,
          3.0850151,
          3.0848662,
          3.087054,
          3.087059,
          3.087757,
          3.090094,
          3.090469,
          3.0869409,
          3.08109576,
          3.097688,
          3.0765161,
          3.09014887,
          3.0867856,
          3.0844023,
          3.07865426,
          3.083759,
          3.08423268,
          3.08235571,
          3.0854253
         ],
         "marker": {
          "color": "#EF553B"
         },
         "mode": "markers",
         "name": "Collioure",
         "showlegend": true,
         "subplot": "mapbox",
         "type": "scattermapbox"
        },
        {
         "hovertemplate": "<b>%{hovertext}</b><br><br>city=Bormes-les-Mimosas<br>latitude=%{lat}<br>longitude=%{lon}<extra></extra>",
         "hovertext": [
          [
           "Apartment Un autre jour ensoleillé"
          ],
          [
           "POSEIDON - MAZET C - 58 m2 en duplex - 3 pièces - Piscine et garage privé -"
          ],
          [
           "POSEIDON - MAZET G - 58 m2 - Piscine privée - Garage individuel -"
          ],
          [
           "POSEIDON - 2 pièces - 32 m2 - Piscine et garage privé"
          ],
          [
           "Magnifique 3 pieces et ses deux salles d'eau - piscine sur le toit et vue panoramique -"
          ],
          [
           "POSEIDON - MAZET B - 58 m2 -"
          ],
          [
           "Provencal Holiday Home in Bormes les Mimosas with Pool"
          ],
          [
           "Amazing holiday home in Bormes les Mimosas with pool"
          ],
          [
           "Studio a Bormes les Mimosas a 400 m de la plage avec jardin clos et wifi"
          ],
          [
           "Le Hameau de la Nicolinière"
          ],
          [
           "Gaou Benat, village des fourches, Label patrimoine XXe siècle"
          ],
          [
           "Coeur de village"
          ],
          [
           "Appartement Bord de Mer La Faviere"
          ],
          [
           "Asklan"
          ],
          [
           "Les Terrasses"
          ],
          [
           "Studio avec Jardin et Parking Privés"
          ],
          [
           "Magnifique maison de village clim vue mer 6 pers"
          ],
          [
           "Villa spacieuse confort et standing"
          ],
          [
           "Le petit atelier"
          ],
          [
           "HomeStay Bormes"
          ]
         ],
         "lat": [
          43.128874,
          43.12415,
          43.12415,
          43.12415,
          43.123184,
          43.12415,
          43.149979,
          43.149979,
          43.127119,
          43.10348079,
          43.10413931,
          43.150077,
          43.12602594,
          43.12264843,
          43.1441295,
          43.1403633,
          43.151608,
          43.1451578,
          43.142501,
          43.146445
         ],
         "legendgroup": "Bormes-les-Mimosas",
         "lon": [
          6.352184,
          6.351192,
          6.351192,
          6.351192,
          6.354464,
          6.351192,
          6.348528,
          6.348528,
          6.357719,
          6.32792383,
          6.35253846,
          6.342641,
          6.35675467,
          6.35946596,
          6.3514904,
          6.3367149,
          6.3411234,
          6.3507401,
          6.3491788,
          6.327724
         ],
         "marker": {
          "color": "#00cc96"
         },
         "mode": "markers",
         "name": "Bormes-les-Mimosas",
         "showlegend": true,
         "subplot": "mapbox",
         "type": "scattermapbox"
        },
        {
         "hovertemplate": "<b>%{hovertext}</b><br><br>city=Marseille<br>latitude=%{lat}<br>longitude=%{lon}<extra></extra>",
         "hovertext": [
          [
           "Hôtel Hermès"
          ],
          [
           "Odalys City Marseille Le Dôme"
          ],
          [
           "Citadines Prado Chanot Marseille"
          ],
          [
           "Odalys City Marseille Prado Castellane"
          ],
          [
           "Citadines Castellane Marseille"
          ],
          [
           "Sofitel Marseille Vieux-Port"
          ],
          [
           "Welkeys Apartment - Sainte"
          ],
          [
           "Appart hôtel Maison Montgrand-Vieux Port"
          ],
          [
           "Residhotel Vieux Port"
          ],
          [
           "Panier"
          ],
          [
           "Appart'City Confort Marseille Centre Prado Velodrome"
          ],
          [
           "Superbe appart 3 p, 10 mn de la plage avec piscine et parking"
          ],
          [
           "Cocon au Soleil 1827"
          ],
          [
           "Le Plaisir 1827"
          ],
          [
           "NOCNOC - Le Renversant"
          ],
          [
           "Maisons du Monde Hôtel & Suites - Marseille Vieux Port"
          ],
          [
           "Hôtel Maison Montgrand - Vieux Port"
          ],
          [
           "Marseillement votre"
          ],
          [
           "Vieux Port République Cannebiére"
          ],
          [
           "LE PANIER ENCHANTÉ - Suites & Loft - Terrasse et patio au dessus du Vieux Port"
          ]
         ],
         "lat": [
          43.29655283,
          43.31106501,
          43.27647108,
          43.27977452,
          43.28282806,
          43.29242722,
          43.292391,
          43.291159,
          43.29681825,
          43.2978666,
          43.2798554,
          43.2505303,
          43.29654954,
          43.2965388,
          43.2947998,
          43.29412372,
          43.2909627,
          43.30020105,
          43.29594971,
          43.300097
         ],
         "legendgroup": "Marseille",
         "lon": [
          5.37188329,
          5.40359886,
          5.3911972,
          5.3905347,
          5.38725905,
          5.36084533,
          5.373729,
          5.376363,
          5.37305743,
          5.3654236,
          5.390496,
          5.3814817,
          5.39145293,
          5.3913738,
          5.3800811,
          5.37463993,
          5.3764292,
          5.38260245,
          5.37455259,
          5.367585
         ],
         "marker": {
          "color": "#ab63fa"
         },
         "mode": "markers",
         "name": "Marseille",
         "showlegend": true,
         "subplot": "mapbox",
         "type": "scattermapbox"
        },
        {
         "hovertemplate": "<b>%{hovertext}</b><br><br>city=Aigues-Mortes<br>latitude=%{lat}<br>longitude=%{lon}<extra></extra>",
         "hovertext": [
          [
           "MAS DE LA GAUJOUZE"
          ],
          [
           "Marina Aigues-Mortes ****"
          ],
          [
           "Stunning home in Aigues-Mortes with WiFi, 3 Bedrooms and Outdoor swimming pool"
          ],
          [
           "Séjour atypique et insolite sur notre péniche La Coradine avec jacuzzi"
          ],
          [
           "Mas de la Montille"
          ],
          [
           "La Maison de Lyna"
          ],
          [
           "Nid douillet t3 au coeur des remparts"
          ],
          [
           "B&B La Terre Brûlée"
          ],
          [
           "Maison T4 -Jardin+ Parking+ Clim -Proche Remparts"
          ],
          [
           "La Paloma"
          ],
          [
           "La Maison de la Viguerie"
          ],
          [
           "La Maison dans les remparts"
          ],
          [
           "LES MANADES d'Aigues Mortes"
          ],
          [
           "Les suites du 17"
          ],
          [
           "CABANE DU SAUNIER MAIA ETANG DU ROY"
          ],
          [
           "Hotel Canal Aigues Mortes"
          ],
          [
           "Boutique Hôtel des Remparts & Spa"
          ],
          [
           "Hôtel Saint Louis"
          ],
          [
           "Maison des Croisades"
          ],
          [
           "Résidence Odalys Le Mas des Flamants"
          ]
         ],
         "lat": [
          43.5793021,
          43.57508584,
          43.5735,
          43.581709,
          43.58386486,
          43.5660175,
          43.5655416,
          43.56197612,
          43.5658193,
          43.57006008,
          43.56589968,
          43.56677079,
          43.5701018,
          43.566227,
          43.5575394,
          43.57298752,
          43.56803552,
          43.56721967,
          43.5689974,
          43.57379435
         ],
         "legendgroup": "Aigues-Mortes",
         "lon": [
          4.2128337,
          4.19092367,
          4.1874,
          4.208536,
          4.23920989,
          4.1923532,
          4.1896099,
          4.20767969,
          4.2053528,
          4.1871778,
          4.19294836,
          4.19210521,
          4.1911494,
          4.191121,
          4.1823967,
          4.1948247,
          4.1903438,
          4.1893436,
          4.1882982,
          4.18062186
         ],
         "marker": {
          "color": "#FFA15A"
         },
         "mode": "markers",
         "name": "Aigues-Mortes",
         "showlegend": true,
         "subplot": "mapbox",
         "type": "scattermapbox"
        }
       ],
       "layout": {
        "legend": {
         "title": {
          "text": "city"
         },
         "tracegroupgap": 0
        },
        "mapbox": {
         "center": {
          "lat": 43.14690836010001,
          "lon": 4.9099529867000005
         },
         "domain": {
          "x": [
           0,
           1
          ],
          "y": [
           0,
           1
          ]
         },
         "style": "carto-positron",
         "zoom": 6
        },
        "margin": {
         "t": 60
        },
        "template": {
         "data": {
          "bar": [
           {
            "error_x": {
             "color": "#2a3f5f"
            },
            "error_y": {
             "color": "#2a3f5f"
            },
            "marker": {
             "line": {
              "color": "#E5ECF6",
              "width": 0.5
             },
             "pattern": {
              "fillmode": "overlay",
              "size": 10,
              "solidity": 0.2
             }
            },
            "type": "bar"
           }
          ],
          "barpolar": [
           {
            "marker": {
             "line": {
              "color": "#E5ECF6",
              "width": 0.5
             },
             "pattern": {
              "fillmode": "overlay",
              "size": 10,
              "solidity": 0.2
             }
            },
            "type": "barpolar"
           }
          ],
          "carpet": [
           {
            "aaxis": {
             "endlinecolor": "#2a3f5f",
             "gridcolor": "white",
             "linecolor": "white",
             "minorgridcolor": "white",
             "startlinecolor": "#2a3f5f"
            },
            "baxis": {
             "endlinecolor": "#2a3f5f",
             "gridcolor": "white",
             "linecolor": "white",
             "minorgridcolor": "white",
             "startlinecolor": "#2a3f5f"
            },
            "type": "carpet"
           }
          ],
          "choropleth": [
           {
            "colorbar": {
             "outlinewidth": 0,
             "ticks": ""
            },
            "type": "choropleth"
           }
          ],
          "contour": [
           {
            "colorbar": {
             "outlinewidth": 0,
             "ticks": ""
            },
            "colorscale": [
             [
              0,
              "#0d0887"
             ],
             [
              0.1111111111111111,
              "#46039f"
             ],
             [
              0.2222222222222222,
              "#7201a8"
             ],
             [
              0.3333333333333333,
              "#9c179e"
             ],
             [
              0.4444444444444444,
              "#bd3786"
             ],
             [
              0.5555555555555556,
              "#d8576b"
             ],
             [
              0.6666666666666666,
              "#ed7953"
             ],
             [
              0.7777777777777778,
              "#fb9f3a"
             ],
             [
              0.8888888888888888,
              "#fdca26"
             ],
             [
              1,
              "#f0f921"
             ]
            ],
            "type": "contour"
           }
          ],
          "contourcarpet": [
           {
            "colorbar": {
             "outlinewidth": 0,
             "ticks": ""
            },
            "type": "contourcarpet"
           }
          ],
          "heatmap": [
           {
            "colorbar": {
             "outlinewidth": 0,
             "ticks": ""
            },
            "colorscale": [
             [
              0,
              "#0d0887"
             ],
             [
              0.1111111111111111,
              "#46039f"
             ],
             [
              0.2222222222222222,
              "#7201a8"
             ],
             [
              0.3333333333333333,
              "#9c179e"
             ],
             [
              0.4444444444444444,
              "#bd3786"
             ],
             [
              0.5555555555555556,
              "#d8576b"
             ],
             [
              0.6666666666666666,
              "#ed7953"
             ],
             [
              0.7777777777777778,
              "#fb9f3a"
             ],
             [
              0.8888888888888888,
              "#fdca26"
             ],
             [
              1,
              "#f0f921"
             ]
            ],
            "type": "heatmap"
           }
          ],
          "heatmapgl": [
           {
            "colorbar": {
             "outlinewidth": 0,
             "ticks": ""
            },
            "colorscale": [
             [
              0,
              "#0d0887"
             ],
             [
              0.1111111111111111,
              "#46039f"
             ],
             [
              0.2222222222222222,
              "#7201a8"
             ],
             [
              0.3333333333333333,
              "#9c179e"
             ],
             [
              0.4444444444444444,
              "#bd3786"
             ],
             [
              0.5555555555555556,
              "#d8576b"
             ],
             [
              0.6666666666666666,
              "#ed7953"
             ],
             [
              0.7777777777777778,
              "#fb9f3a"
             ],
             [
              0.8888888888888888,
              "#fdca26"
             ],
             [
              1,
              "#f0f921"
             ]
            ],
            "type": "heatmapgl"
           }
          ],
          "histogram": [
           {
            "marker": {
             "pattern": {
              "fillmode": "overlay",
              "size": 10,
              "solidity": 0.2
             }
            },
            "type": "histogram"
           }
          ],
          "histogram2d": [
           {
            "colorbar": {
             "outlinewidth": 0,
             "ticks": ""
            },
            "colorscale": [
             [
              0,
              "#0d0887"
             ],
             [
              0.1111111111111111,
              "#46039f"
             ],
             [
              0.2222222222222222,
              "#7201a8"
             ],
             [
              0.3333333333333333,
              "#9c179e"
             ],
             [
              0.4444444444444444,
              "#bd3786"
             ],
             [
              0.5555555555555556,
              "#d8576b"
             ],
             [
              0.6666666666666666,
              "#ed7953"
             ],
             [
              0.7777777777777778,
              "#fb9f3a"
             ],
             [
              0.8888888888888888,
              "#fdca26"
             ],
             [
              1,
              "#f0f921"
             ]
            ],
            "type": "histogram2d"
           }
          ],
          "histogram2dcontour": [
           {
            "colorbar": {
             "outlinewidth": 0,
             "ticks": ""
            },
            "colorscale": [
             [
              0,
              "#0d0887"
             ],
             [
              0.1111111111111111,
              "#46039f"
             ],
             [
              0.2222222222222222,
              "#7201a8"
             ],
             [
              0.3333333333333333,
              "#9c179e"
             ],
             [
              0.4444444444444444,
              "#bd3786"
             ],
             [
              0.5555555555555556,
              "#d8576b"
             ],
             [
              0.6666666666666666,
              "#ed7953"
             ],
             [
              0.7777777777777778,
              "#fb9f3a"
             ],
             [
              0.8888888888888888,
              "#fdca26"
             ],
             [
              1,
              "#f0f921"
             ]
            ],
            "type": "histogram2dcontour"
           }
          ],
          "mesh3d": [
           {
            "colorbar": {
             "outlinewidth": 0,
             "ticks": ""
            },
            "type": "mesh3d"
           }
          ],
          "parcoords": [
           {
            "line": {
             "colorbar": {
              "outlinewidth": 0,
              "ticks": ""
             }
            },
            "type": "parcoords"
           }
          ],
          "pie": [
           {
            "automargin": true,
            "type": "pie"
           }
          ],
          "scatter": [
           {
            "fillpattern": {
             "fillmode": "overlay",
             "size": 10,
             "solidity": 0.2
            },
            "type": "scatter"
           }
          ],
          "scatter3d": [
           {
            "line": {
             "colorbar": {
              "outlinewidth": 0,
              "ticks": ""
             }
            },
            "marker": {
             "colorbar": {
              "outlinewidth": 0,
              "ticks": ""
             }
            },
            "type": "scatter3d"
           }
          ],
          "scattercarpet": [
           {
            "marker": {
             "colorbar": {
              "outlinewidth": 0,
              "ticks": ""
             }
            },
            "type": "scattercarpet"
           }
          ],
          "scattergeo": [
           {
            "marker": {
             "colorbar": {
              "outlinewidth": 0,
              "ticks": ""
             }
            },
            "type": "scattergeo"
           }
          ],
          "scattergl": [
           {
            "marker": {
             "colorbar": {
              "outlinewidth": 0,
              "ticks": ""
             }
            },
            "type": "scattergl"
           }
          ],
          "scattermapbox": [
           {
            "marker": {
             "colorbar": {
              "outlinewidth": 0,
              "ticks": ""
             }
            },
            "type": "scattermapbox"
           }
          ],
          "scatterpolar": [
           {
            "marker": {
             "colorbar": {
              "outlinewidth": 0,
              "ticks": ""
             }
            },
            "type": "scatterpolar"
           }
          ],
          "scatterpolargl": [
           {
            "marker": {
             "colorbar": {
              "outlinewidth": 0,
              "ticks": ""
             }
            },
            "type": "scatterpolargl"
           }
          ],
          "scatterternary": [
           {
            "marker": {
             "colorbar": {
              "outlinewidth": 0,
              "ticks": ""
             }
            },
            "type": "scatterternary"
           }
          ],
          "surface": [
           {
            "colorbar": {
             "outlinewidth": 0,
             "ticks": ""
            },
            "colorscale": [
             [
              0,
              "#0d0887"
             ],
             [
              0.1111111111111111,
              "#46039f"
             ],
             [
              0.2222222222222222,
              "#7201a8"
             ],
             [
              0.3333333333333333,
              "#9c179e"
             ],
             [
              0.4444444444444444,
              "#bd3786"
             ],
             [
              0.5555555555555556,
              "#d8576b"
             ],
             [
              0.6666666666666666,
              "#ed7953"
             ],
             [
              0.7777777777777778,
              "#fb9f3a"
             ],
             [
              0.8888888888888888,
              "#fdca26"
             ],
             [
              1,
              "#f0f921"
             ]
            ],
            "type": "surface"
           }
          ],
          "table": [
           {
            "cells": {
             "fill": {
              "color": "#EBF0F8"
             },
             "line": {
              "color": "white"
             }
            },
            "header": {
             "fill": {
              "color": "#C8D4E3"
             },
             "line": {
              "color": "white"
             }
            },
            "type": "table"
           }
          ]
         },
         "layout": {
          "annotationdefaults": {
           "arrowcolor": "#2a3f5f",
           "arrowhead": 0,
           "arrowwidth": 1
          },
          "autotypenumbers": "strict",
          "coloraxis": {
           "colorbar": {
            "outlinewidth": 0,
            "ticks": ""
           }
          },
          "colorscale": {
           "diverging": [
            [
             0,
             "#8e0152"
            ],
            [
             0.1,
             "#c51b7d"
            ],
            [
             0.2,
             "#de77ae"
            ],
            [
             0.3,
             "#f1b6da"
            ],
            [
             0.4,
             "#fde0ef"
            ],
            [
             0.5,
             "#f7f7f7"
            ],
            [
             0.6,
             "#e6f5d0"
            ],
            [
             0.7,
             "#b8e186"
            ],
            [
             0.8,
             "#7fbc41"
            ],
            [
             0.9,
             "#4d9221"
            ],
            [
             1,
             "#276419"
            ]
           ],
           "sequential": [
            [
             0,
             "#0d0887"
            ],
            [
             0.1111111111111111,
             "#46039f"
            ],
            [
             0.2222222222222222,
             "#7201a8"
            ],
            [
             0.3333333333333333,
             "#9c179e"
            ],
            [
             0.4444444444444444,
             "#bd3786"
            ],
            [
             0.5555555555555556,
             "#d8576b"
            ],
            [
             0.6666666666666666,
             "#ed7953"
            ],
            [
             0.7777777777777778,
             "#fb9f3a"
            ],
            [
             0.8888888888888888,
             "#fdca26"
            ],
            [
             1,
             "#f0f921"
            ]
           ],
           "sequentialminus": [
            [
             0,
             "#0d0887"
            ],
            [
             0.1111111111111111,
             "#46039f"
            ],
            [
             0.2222222222222222,
             "#7201a8"
            ],
            [
             0.3333333333333333,
             "#9c179e"
            ],
            [
             0.4444444444444444,
             "#bd3786"
            ],
            [
             0.5555555555555556,
             "#d8576b"
            ],
            [
             0.6666666666666666,
             "#ed7953"
            ],
            [
             0.7777777777777778,
             "#fb9f3a"
            ],
            [
             0.8888888888888888,
             "#fdca26"
            ],
            [
             1,
             "#f0f921"
            ]
           ]
          },
          "colorway": [
           "#636efa",
           "#EF553B",
           "#00cc96",
           "#ab63fa",
           "#FFA15A",
           "#19d3f3",
           "#FF6692",
           "#B6E880",
           "#FF97FF",
           "#FECB52"
          ],
          "font": {
           "color": "#2a3f5f"
          },
          "geo": {
           "bgcolor": "white",
           "lakecolor": "white",
           "landcolor": "#E5ECF6",
           "showlakes": true,
           "showland": true,
           "subunitcolor": "white"
          },
          "hoverlabel": {
           "align": "left"
          },
          "hovermode": "closest",
          "mapbox": {
           "style": "light"
          },
          "paper_bgcolor": "white",
          "plot_bgcolor": "#E5ECF6",
          "polar": {
           "angularaxis": {
            "gridcolor": "white",
            "linecolor": "white",
            "ticks": ""
           },
           "bgcolor": "#E5ECF6",
           "radialaxis": {
            "gridcolor": "white",
            "linecolor": "white",
            "ticks": ""
           }
          },
          "scene": {
           "xaxis": {
            "backgroundcolor": "#E5ECF6",
            "gridcolor": "white",
            "gridwidth": 2,
            "linecolor": "white",
            "showbackground": true,
            "ticks": "",
            "zerolinecolor": "white"
           },
           "yaxis": {
            "backgroundcolor": "#E5ECF6",
            "gridcolor": "white",
            "gridwidth": 2,
            "linecolor": "white",
            "showbackground": true,
            "ticks": "",
            "zerolinecolor": "white"
           },
           "zaxis": {
            "backgroundcolor": "#E5ECF6",
            "gridcolor": "white",
            "gridwidth": 2,
            "linecolor": "white",
            "showbackground": true,
            "ticks": "",
            "zerolinecolor": "white"
           }
          },
          "shapedefaults": {
           "line": {
            "color": "#2a3f5f"
           }
          },
          "ternary": {
           "aaxis": {
            "gridcolor": "white",
            "linecolor": "white",
            "ticks": ""
           },
           "baxis": {
            "gridcolor": "white",
            "linecolor": "white",
            "ticks": ""
           },
           "bgcolor": "#E5ECF6",
           "caxis": {
            "gridcolor": "white",
            "linecolor": "white",
            "ticks": ""
           }
          },
          "title": {
           "x": 0.05
          },
          "xaxis": {
           "automargin": true,
           "gridcolor": "white",
           "linecolor": "white",
           "ticks": "",
           "title": {
            "standoff": 15
           },
           "zerolinecolor": "white",
           "zerolinewidth": 2
          },
          "yaxis": {
           "automargin": true,
           "gridcolor": "white",
           "linecolor": "white",
           "ticks": "",
           "title": {
            "standoff": 15
           },
           "zerolinecolor": "white",
           "zerolinewidth": 2
          }
         }
        }
       }
      }
     },
     "metadata": {},
     "output_type": "display_data"
    }
   ],
   "source": [
    "import plotly.graph_objects as go\n",
    "import plotly.express as px\n",
    "\n",
    "fig = px.scatter_mapbox(top_hotels, lat=\"latitude\", lon=\"longitude\", color=\"city\", hover_name=\"hotel_name\", zoom=6, mapbox_style=\"carto-positron\")\n",
    "fig.show()"
   ]
  },
  {
   "cell_type": "code",
   "execution_count": 51,
   "metadata": {},
   "outputs": [],
   "source": [
    "top_hotels.to_csv('top_20_hotels.csv', index=False) "
   ]
  }
 ],
 "metadata": {
  "kernelspec": {
   "display_name": "Python 3.10.8 64-bit",
   "language": "python",
   "name": "python3"
  },
  "language_info": {
   "codemirror_mode": {
    "name": "ipython",
    "version": 3
   },
   "file_extension": ".py",
   "mimetype": "text/x-python",
   "name": "python",
   "nbconvert_exporter": "python",
   "pygments_lexer": "ipython3",
   "version": "3.10.8"
  },
  "orig_nbformat": 4,
  "vscode": {
   "interpreter": {
    "hash": "b0fa6594d8f4cbf19f97940f81e996739fb7646882a419484c72d19e05852a7e"
   }
  }
 },
 "nbformat": 4,
 "nbformat_minor": 2
}
